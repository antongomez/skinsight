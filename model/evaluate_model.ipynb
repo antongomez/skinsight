{
 "cells": [
  {
   "cell_type": "markdown",
   "metadata": {},
   "source": [
    "# SkinSight Preprocessing & Model Evaluation\n",
    "\n",
    "In this notebook we will show how the preprocessing of the dataset used to train the SkinSight model was done and how the model was evaluated. The used dataset can be downloaded from [here](https://www.kaggle.com/datasets/ismailpromus/skin-diseases-image-dataset). This dataset contains 27,153 dermatoscopic images of skin lesions. The original datastet contains 10 classes, but we only are going to use 3 classes: Atopic Dermatitis, Eczema and Melanoma. The reduced dataset can be downloaded from [here](https://nubeusc-my.sharepoint.com/:f:/g/personal/eliseo_pita_rai_usc_es/EtOuVOWFrtJNr2tE7mrjTiwBPLDMcMdEqCAUjqjA5NsG0w?e=eNKcp6).\n",
    "\n",
    "The class distribution of the reduced dataset is the following:\n",
    "\n",
    "- Eczema: 1,677 images\n",
    "- Melanoma: 3,140 images\n",
    "- Atopic Dermatitis: 1,257 images\n"
   ]
  },
  {
   "cell_type": "code",
   "execution_count": 10,
   "metadata": {},
   "outputs": [
    {
     "name": "stdout",
     "output_type": "stream",
     "text": [
      "PhysicalDevice(name='/physical_device:GPU:0', device_type='GPU')\n",
      "PhysicalDevice(name='/physical_device:GPU:1', device_type='GPU')\n"
     ]
    }
   ],
   "source": [
    "import tensorflow as tf\n",
    "\n",
    "# Check if we have gpu access\n",
    "gpu_list = tf.config.experimental.list_physical_devices(\"GPU\")\n",
    "if len(gpu_list) == 0:\n",
    "    print(\"No GPU available, using CPU instead\")\n",
    "else:\n",
    "    for gpu in gpu_list:\n",
    "        print(gpu)"
   ]
  },
  {
   "cell_type": "markdown",
   "metadata": {},
   "source": [
    "## Data preprocessing\n",
    "\n",
    "Fisrt we have to implement a class to laod the dataset from the disk and preprocess it. The images of this dataset have different sizes, so we have to resize them to a fixed size. We are going add padding to ensure the images have a square shape, and then resize them to 256x256 pixels.\n",
    "\n"
   ]
  },
  {
   "cell_type": "code",
   "execution_count": 11,
   "metadata": {},
   "outputs": [
    {
     "name": "stdout",
     "output_type": "stream",
     "text": [
      "Different image sizes: 158\n",
      "Minimum sizes:  (294, 222) (418, 484)\n",
      "Maximum sizes:  (720, 712) (720, 1080)\n"
     ]
    }
   ],
   "source": [
    "import os\n",
    "from PIL import Image\n",
    "\n",
    "\n",
    "def print_original_image_sizes(data_dir):\n",
    "    \"\"\"Prints the unique image sizes in the dataset.\"\"\"\n",
    "    image_sizes = set()\n",
    "\n",
    "    for class_name in sorted(os.listdir(data_dir)):\n",
    "        class_path = os.path.join(data_dir, class_name)\n",
    "        if os.path.isdir(class_path):\n",
    "            for image_name in os.listdir(class_path):\n",
    "                if image_name.lower().endswith((\"png\", \"jpg\", \"jpeg\")):\n",
    "                    image_path = os.path.join(class_path, image_name)\n",
    "\n",
    "                    # Open image and get its size\n",
    "                    with Image.open(image_path) as img:\n",
    "                        width, height = img.size\n",
    "                        image_sizes.add((width, height))\n",
    "\n",
    "    print(f\"Different image sizes: {len(image_sizes)}\")\n",
    "    sorted_sizes = sorted(image_sizes)\n",
    "    print(\"Minimum sizes: \", sorted_sizes[0], sorted_sizes[1])\n",
    "    print(\"Maximum sizes: \", sorted_sizes[-2], sorted_sizes[-1])\n",
    "\n",
    "\n",
    "print_original_image_sizes(\"data/raw_data/\")"
   ]
  },
  {
   "cell_type": "code",
   "execution_count": 46,
   "metadata": {},
   "outputs": [
    {
     "name": "stdout",
     "output_type": "stream",
     "text": [
      "Num classes: 3. Found classes: ['atopic_dermatitis', 'eczema', 'melanoma']\n",
      "Num images per class: [1257, 1677, 3140]\n"
     ]
    }
   ],
   "source": [
    "from dataloader import ImageDataLoader\n",
    "\n",
    "data_dir = \"data/raw_data/\"\n",
    "batch_size = 32\n",
    "\n",
    "data_loader = ImageDataLoader(data_dir, batch_size=batch_size, seed=42)\n",
    "train_ds, val_ds, test_ds = data_loader.get_datasets()"
   ]
  },
  {
   "cell_type": "code",
   "execution_count": null,
   "metadata": {},
   "outputs": [
    {
     "name": "stderr",
     "output_type": "stream",
     "text": [
      "/home/anton.gomez.lopez/miniconda3/envs/skinsight-env/lib/python3.12/site-packages/keras/src/layers/convolutional/base_conv.py:107: UserWarning: Do not pass an `input_shape`/`input_dim` argument to a layer. When using Sequential models, prefer using an `Input(shape)` object as the first layer in the model instead.\n",
      "  super().__init__(activity_regularizer=activity_regularizer, **kwargs)\n"
     ]
    }
   ],
   "source": [
    "import os\n",
    "from tensorflow import keras\n",
    "\n",
    "\n",
    "def generate_ann(\n",
    "    input_shape=(256, 256, 3),\n",
    "    filters=[32, 64, 128, 256],\n",
    "    dense_units=[256, 128],\n",
    "    output_units=3,\n",
    "    dropout_rate=0.2,\n",
    "):\n",
    "    \"\"\"\n",
    "    Generates a Convolutional Neural Network (CNN) model for CIFAR-10.\n",
    "\n",
    "    Args:\n",
    "    - filters (list): A list of integers specifying the number of filters in each convolutional layer.\n",
    "    - dense_units (list): A list of integers specifying the number of units in each fully connected layer.\n",
    "    - dropout_rate (float): The dropout rate for the fully connected layers.\n",
    "\n",
    "    Returns:\n",
    "    - model (tf.keras.Model): The compiled CNN model.\n",
    "    \"\"\"\n",
    "\n",
    "    model = tf.keras.Sequential()\n",
    "\n",
    "    for i, filter in enumerate(filters):\n",
    "        if i == 0:\n",
    "            model.add(\n",
    "                tf.keras.layers.Conv2D(filter, (3, 3), activation=\"relu\", padding=\"same\", input_shape=input_shape)\n",
    "            )\n",
    "        else:\n",
    "            model.add(tf.keras.layers.Conv2D(filter, (3, 3), activation=\"relu\", padding=\"same\"))\n",
    "        model.add(tf.keras.layers.BatchNormalization())\n",
    "        model.add(tf.keras.layers.MaxPooling2D(pool_size=(2, 2)))\n",
    "\n",
    "    model.add(tf.keras.layers.Flatten())\n",
    "\n",
    "    for units in dense_units:\n",
    "        model.add(tf.keras.layers.Dense(units, activation=\"relu\"))\n",
    "        model.add(tf.keras.layers.Dropout(dropout_rate))\n",
    "\n",
    "    model.add(tf.keras.layers.Dense(output_units, activation=\"softmax\"))\n",
    "    model.compile(\n",
    "        optimizer=\"adam\",\n",
    "        loss=\"sparse_categorical_crossentropy\",\n",
    "        metrics=[keras.metrics.SparseCategoricalAccuracy(name=\"avg_accuracy\"), \"accuracy\"],\n",
    "    )\n",
    "\n",
    "    return model\n",
    "\n",
    "\n",
    "model = generate_ann()\n",
    "\n",
    "# Callbacks\n",
    "early_stopping = tf.keras.callbacks.EarlyStopping(monitor=\"val_loss\", patience=10, restore_best_weights=True)\n",
    "dir_save_models = \"models\"\n",
    "os.makedirs(dir_save_models, exist_ok=True)\n",
    "model_checkpoint = tf.keras.callbacks.ModelCheckpoint(dir_save_models + \"/best_model.keras\", save_best_only=True)"
   ]
  },
  {
   "cell_type": "code",
   "execution_count": 43,
   "metadata": {},
   "outputs": [
    {
     "name": "stdout",
     "output_type": "stream",
     "text": [
      "Epoch 1/30\n",
      "\u001b[1m  2/133\u001b[0m \u001b[37m━━━━━━━━━━━━━━━━━━━━\u001b[0m \u001b[1m9s\u001b[0m 74ms/step - accuracy: 0.4141 - avg_accuracy: 0.4141 - loss: 2.7634 "
     ]
    },
    {
     "name": "stderr",
     "output_type": "stream",
     "text": [
      "2025-03-23 18:45:27.181594: I external/local_xla/xla/stream_executor/cuda/cuda_asm_compiler.cc:393] ptxas warning : Registers are spilled to local memory in function 'loop_add_subtract_fusion_9', 4 bytes spill stores, 12 bytes spill loads\n",
      "ptxas warning : Registers are spilled to local memory in function 'loop_add_subtract_fusion_2', 4 bytes spill stores, 12 bytes spill loads\n",
      "\n"
     ]
    },
    {
     "name": "stdout",
     "output_type": "stream",
     "text": [
      "\u001b[1m133/133\u001b[0m \u001b[32m━━━━━━━━━━━━━━━━━━━━\u001b[0m\u001b[37m\u001b[0m \u001b[1m0s\u001b[0m 100ms/step - accuracy: 0.7831 - avg_accuracy: 0.7831 - loss: 4.2812"
     ]
    },
    {
     "name": "stderr",
     "output_type": "stream",
     "text": [
      "2025-03-23 18:45:40.405080: I external/local_xla/xla/stream_executor/cuda/cuda_asm_compiler.cc:393] ptxas warning : Registers are spilled to local memory in function 'loop_add_subtract_fusion_6', 4 bytes spill stores, 12 bytes spill loads\n",
      "ptxas warning : Registers are spilled to local memory in function 'loop_add_subtract_fusion_2', 4 bytes spill stores, 12 bytes spill loads\n",
      "\n"
     ]
    },
    {
     "name": "stdout",
     "output_type": "stream",
     "text": [
      "\u001b[1m133/133\u001b[0m \u001b[32m━━━━━━━━━━━━━━━━━━━━\u001b[0m\u001b[37m\u001b[0m \u001b[1m28s\u001b[0m 159ms/step - accuracy: 0.7832 - avg_accuracy: 0.7832 - loss: 4.2736 - val_accuracy: 0.5664 - val_avg_accuracy: 0.5664 - val_loss: 11.8075\n",
      "Epoch 2/30\n",
      "\u001b[1m133/133\u001b[0m \u001b[32m━━━━━━━━━━━━━━━━━━━━\u001b[0m\u001b[37m\u001b[0m \u001b[1m15s\u001b[0m 111ms/step - accuracy: 0.8108 - avg_accuracy: 0.8108 - loss: 1.1158 - val_accuracy: 0.5104 - val_avg_accuracy: 0.5104 - val_loss: 7.0281\n",
      "Epoch 3/30\n",
      "\u001b[1m133/133\u001b[0m \u001b[32m━━━━━━━━━━━━━━━━━━━━\u001b[0m\u001b[37m\u001b[0m \u001b[1m15s\u001b[0m 112ms/step - accuracy: 0.8155 - avg_accuracy: 0.8155 - loss: 0.5967 - val_accuracy: 0.7629 - val_avg_accuracy: 0.7629 - val_loss: 0.6066\n",
      "Epoch 4/30\n",
      "\u001b[1m133/133\u001b[0m \u001b[32m━━━━━━━━━━━━━━━━━━━━\u001b[0m\u001b[37m\u001b[0m \u001b[1m14s\u001b[0m 103ms/step - accuracy: 0.8195 - avg_accuracy: 0.8195 - loss: 0.4463 - val_accuracy: 0.8101 - val_avg_accuracy: 0.8101 - val_loss: 1.5033\n",
      "Epoch 5/30\n",
      "\u001b[1m133/133\u001b[0m \u001b[32m━━━━━━━━━━━━━━━━━━━━\u001b[0m\u001b[37m\u001b[0m \u001b[1m14s\u001b[0m 103ms/step - accuracy: 0.8365 - avg_accuracy: 0.8365 - loss: 0.4933 - val_accuracy: 0.8255 - val_avg_accuracy: 0.8255 - val_loss: 0.8945\n",
      "Epoch 6/30\n",
      "\u001b[1m133/133\u001b[0m \u001b[32m━━━━━━━━━━━━━━━━━━━━\u001b[0m\u001b[37m\u001b[0m \u001b[1m15s\u001b[0m 110ms/step - accuracy: 0.8203 - avg_accuracy: 0.8203 - loss: 0.4064 - val_accuracy: 0.8628 - val_avg_accuracy: 0.8628 - val_loss: 0.3122\n",
      "Epoch 7/30\n",
      "\u001b[1m133/133\u001b[0m \u001b[32m━━━━━━━━━━━━━━━━━━━━\u001b[0m\u001b[37m\u001b[0m \u001b[1m15s\u001b[0m 112ms/step - accuracy: 0.8309 - avg_accuracy: 0.8309 - loss: 0.4136 - val_accuracy: 0.8650 - val_avg_accuracy: 0.8650 - val_loss: 0.3085\n",
      "Epoch 8/30\n",
      "\u001b[1m133/133\u001b[0m \u001b[32m━━━━━━━━━━━━━━━━━━━━\u001b[0m\u001b[37m\u001b[0m \u001b[1m14s\u001b[0m 102ms/step - accuracy: 0.8487 - avg_accuracy: 0.8487 - loss: 0.3430 - val_accuracy: 0.8419 - val_avg_accuracy: 0.8419 - val_loss: 0.3304\n",
      "Epoch 9/30\n",
      "\u001b[1m133/133\u001b[0m \u001b[32m━━━━━━━━━━━━━━━━━━━━\u001b[0m\u001b[37m\u001b[0m \u001b[1m14s\u001b[0m 102ms/step - accuracy: 0.8402 - avg_accuracy: 0.8402 - loss: 0.3607 - val_accuracy: 0.8529 - val_avg_accuracy: 0.8529 - val_loss: 0.3616\n",
      "Epoch 10/30\n",
      "\u001b[1m133/133\u001b[0m \u001b[32m━━━━━━━━━━━━━━━━━━━━\u001b[0m\u001b[37m\u001b[0m \u001b[1m14s\u001b[0m 103ms/step - accuracy: 0.8472 - avg_accuracy: 0.8472 - loss: 0.3286 - val_accuracy: 0.7827 - val_avg_accuracy: 0.7827 - val_loss: 0.5093\n",
      "Epoch 11/30\n",
      "\u001b[1m133/133\u001b[0m \u001b[32m━━━━━━━━━━━━━━━━━━━━\u001b[0m\u001b[37m\u001b[0m \u001b[1m14s\u001b[0m 103ms/step - accuracy: 0.8349 - avg_accuracy: 0.8349 - loss: 0.3483 - val_accuracy: 0.8683 - val_avg_accuracy: 0.8683 - val_loss: 0.3096\n",
      "Epoch 12/30\n",
      "\u001b[1m133/133\u001b[0m \u001b[32m━━━━━━━━━━━━━━━━━━━━\u001b[0m\u001b[37m\u001b[0m \u001b[1m15s\u001b[0m 109ms/step - accuracy: 0.8508 - avg_accuracy: 0.8508 - loss: 0.3103 - val_accuracy: 0.8628 - val_avg_accuracy: 0.8628 - val_loss: 0.2853\n",
      "Epoch 13/30\n",
      "\u001b[1m133/133\u001b[0m \u001b[32m━━━━━━━━━━━━━━━━━━━━\u001b[0m\u001b[37m\u001b[0m \u001b[1m14s\u001b[0m 102ms/step - accuracy: 0.8519 - avg_accuracy: 0.8519 - loss: 0.3201 - val_accuracy: 0.8683 - val_avg_accuracy: 0.8683 - val_loss: 0.2925\n",
      "Epoch 14/30\n",
      "\u001b[1m133/133\u001b[0m \u001b[32m━━━━━━━━━━━━━━━━━━━━\u001b[0m\u001b[37m\u001b[0m \u001b[1m15s\u001b[0m 110ms/step - accuracy: 0.8672 - avg_accuracy: 0.8672 - loss: 0.2926 - val_accuracy: 0.8716 - val_avg_accuracy: 0.8716 - val_loss: 0.2840\n",
      "Epoch 15/30\n",
      "\u001b[1m133/133\u001b[0m \u001b[32m━━━━━━━━━━━━━━━━━━━━\u001b[0m\u001b[37m\u001b[0m \u001b[1m15s\u001b[0m 110ms/step - accuracy: 0.8732 - avg_accuracy: 0.8732 - loss: 0.3027 - val_accuracy: 0.8793 - val_avg_accuracy: 0.8793 - val_loss: 0.2660\n",
      "Epoch 16/30\n",
      "\u001b[1m133/133\u001b[0m \u001b[32m━━━━━━━━━━━━━━━━━━━━\u001b[0m\u001b[37m\u001b[0m \u001b[1m14s\u001b[0m 105ms/step - accuracy: 0.8662 - avg_accuracy: 0.8662 - loss: 0.3015 - val_accuracy: 0.8738 - val_avg_accuracy: 0.8738 - val_loss: 0.2763\n",
      "Epoch 17/30\n",
      "\u001b[1m133/133\u001b[0m \u001b[32m━━━━━━━━━━━━━━━━━━━━\u001b[0m\u001b[37m\u001b[0m \u001b[1m14s\u001b[0m 102ms/step - accuracy: 0.8729 - avg_accuracy: 0.8729 - loss: 0.3221 - val_accuracy: 0.8661 - val_avg_accuracy: 0.8661 - val_loss: 0.2933\n",
      "Epoch 18/30\n",
      "\u001b[1m133/133\u001b[0m \u001b[32m━━━━━━━━━━━━━━━━━━━━\u001b[0m\u001b[37m\u001b[0m \u001b[1m14s\u001b[0m 105ms/step - accuracy: 0.8673 - avg_accuracy: 0.8673 - loss: 0.2918 - val_accuracy: 0.8727 - val_avg_accuracy: 0.8727 - val_loss: 0.2907\n",
      "Epoch 19/30\n",
      "\u001b[1m133/133\u001b[0m \u001b[32m━━━━━━━━━━━━━━━━━━━━\u001b[0m\u001b[37m\u001b[0m \u001b[1m14s\u001b[0m 103ms/step - accuracy: 0.8694 - avg_accuracy: 0.8694 - loss: 0.2812 - val_accuracy: 0.8771 - val_avg_accuracy: 0.8771 - val_loss: 0.2735\n",
      "Epoch 20/30\n",
      "\u001b[1m133/133\u001b[0m \u001b[32m━━━━━━━━━━━━━━━━━━━━\u001b[0m\u001b[37m\u001b[0m \u001b[1m14s\u001b[0m 105ms/step - accuracy: 0.8664 - avg_accuracy: 0.8664 - loss: 0.2884 - val_accuracy: 0.8825 - val_avg_accuracy: 0.8825 - val_loss: 0.2726\n"
     ]
    }
   ],
   "source": [
    "history = model.fit(\n",
    "    train_ds,\n",
    "    validation_data=val_ds,\n",
    "    epochs=30,\n",
    "    callbacks=[early_stopping, model_checkpoint],\n",
    ")"
   ]
  },
  {
   "cell_type": "code",
   "execution_count": 44,
   "metadata": {},
   "outputs": [],
   "source": [
    "import pickle\n",
    "\n",
    "with open(\"models/history.pkl\", \"wb\") as f:\n",
    "    pickle.dump(history.history, f)"
   ]
  },
  {
   "cell_type": "code",
   "execution_count": 45,
   "metadata": {},
   "outputs": [
    {
     "name": "stdout",
     "output_type": "stream",
     "text": [
      "\u001b[1m29/29\u001b[0m \u001b[32m━━━━━━━━━━━━━━━━━━━━\u001b[0m\u001b[37m\u001b[0m \u001b[1m6s\u001b[0m 61ms/step - accuracy: 0.8823 - avg_accuracy: 0.8823 - loss: 0.2787\n",
      "Test average accuracy: 0.8860\n",
      "Test accuracy: 0.8860\n"
     ]
    }
   ],
   "source": [
    "test_loss, test_avg_acc, test_acc = model.evaluate(test_ds)\n",
    "print(f\"Test average accuracy: {test_avg_acc:.4f}\")\n",
    "print(f\"Test accuracy: {test_acc:.4f}\")"
   ]
  },
  {
   "cell_type": "markdown",
   "metadata": {},
   "source": [
    "## Evaluate model\n",
    "\n"
   ]
  },
  {
   "cell_type": "code",
   "execution_count": 3,
   "metadata": {},
   "outputs": [
    {
     "name": "stdout",
     "output_type": "stream",
     "text": [
      "PhysicalDevice(name='/physical_device:GPU:0', device_type='GPU')\n",
      "PhysicalDevice(name='/physical_device:GPU:1', device_type='GPU')\n"
     ]
    }
   ],
   "source": [
    "import tensorflow as tf\n",
    "\n",
    "# Check if we have gpu access\n",
    "gpu_list = tf.config.experimental.list_physical_devices(\"GPU\")\n",
    "if len(gpu_list) == 0:\n",
    "    print(\"No GPU available, using CPU instead\")\n",
    "else:\n",
    "    for gpu in gpu_list:\n",
    "        print(gpu)"
   ]
  },
  {
   "cell_type": "code",
   "execution_count": 4,
   "metadata": {},
   "outputs": [
    {
     "name": "stdout",
     "output_type": "stream",
     "text": [
      "Num classes: 3. Found classes: ['atopic_dermatitis', 'eczema', 'melanoma']\n",
      "Num images per class: [1257, 1677, 3140]\n"
     ]
    }
   ],
   "source": [
    "from dataloader import ImageDataLoader\n",
    "\n",
    "data_dir = \"data/raw_data/\"\n",
    "batch_size = 32\n",
    "\n",
    "data_loader = ImageDataLoader(data_dir, batch_size=batch_size, seed=42)\n",
    "train_ds, val_ds, test_ds = data_loader.get_datasets()"
   ]
  },
  {
   "cell_type": "code",
   "execution_count": 5,
   "metadata": {},
   "outputs": [],
   "source": [
    "# load model\n",
    "model = tf.keras.models.load_model(\"models/best_model.keras\")"
   ]
  },
  {
   "cell_type": "code",
   "execution_count": 6,
   "metadata": {},
   "outputs": [
    {
     "name": "stderr",
     "output_type": "stream",
     "text": [
      "WARNING: All log messages before absl::InitializeLog() is called are written to STDERR\n",
      "I0000 00:00:1742753080.945102 3888232 service.cc:146] XLA service 0x7f0678009450 initialized for platform CUDA (this does not guarantee that XLA will be used). Devices:\n",
      "I0000 00:00:1742753080.945160 3888232 service.cc:154]   StreamExecutor device (0): Tesla P40, Compute Capability 6.1\n",
      "I0000 00:00:1742753080.945165 3888232 service.cc:154]   StreamExecutor device (1): Tesla P40, Compute Capability 6.1\n",
      "2025-03-23 19:04:40.964049: I tensorflow/compiler/mlir/tensorflow/utils/dump_mlir_util.cc:268] disabling MLIR crash reproducer, set env var `MLIR_CRASH_REPRODUCER_DIRECTORY` to enable.\n",
      "2025-03-23 19:04:41.029232: I external/local_xla/xla/stream_executor/cuda/cuda_dnn.cc:531] Loaded cuDNN version 90101\n"
     ]
    },
    {
     "name": "stdout",
     "output_type": "stream",
     "text": [
      "\u001b[1m 6/29\u001b[0m \u001b[32m━━━━\u001b[0m\u001b[37m━━━━━━━━━━━━━━━━\u001b[0m \u001b[1m0s\u001b[0m 26ms/step - accuracy: 0.8733 - avg_accuracy: 0.8733 - loss: 0.2776"
     ]
    },
    {
     "name": "stderr",
     "output_type": "stream",
     "text": [
      "I0000 00:00:1742753083.593315 3888232 device_compiler.h:188] Compiled cluster using XLA!  This line is logged at most once for the lifetime of the process.\n"
     ]
    },
    {
     "name": "stdout",
     "output_type": "stream",
     "text": [
      "\u001b[1m29/29\u001b[0m \u001b[32m━━━━━━━━━━━━━━━━━━━━\u001b[0m\u001b[37m\u001b[0m \u001b[1m11s\u001b[0m 94ms/step - accuracy: 0.8679 - avg_accuracy: 0.8679 - loss: 0.2837\n",
      "Test average accuracy: 0.8706\n",
      "Test accuracy: 0.8706\n"
     ]
    }
   ],
   "source": [
    "test_loss, test_avg_acc, test_acc = model.evaluate(test_ds)\n",
    "print(f\"Test average accuracy: {test_avg_acc:.4f}\")\n",
    "print(f\"Test accuracy: {test_acc:.4f}\")"
   ]
  },
  {
   "cell_type": "code",
   "execution_count": 7,
   "metadata": {},
   "outputs": [
    {
     "name": "stderr",
     "output_type": "stream",
     "text": [
      "2025-03-23 19:04:55.563817: I tensorflow/core/framework/local_rendezvous.cc:404] Local rendezvous is aborting with status: OUT_OF_RANGE: End of sequence\n"
     ]
    },
    {
     "data": {
      "image/png": "[encoded data removed]",
      "text/plain": [
       "<Figure size 640x480 with 2 Axes>"
      ]
     },
     "metadata": {},
     "output_type": "display_data"
    }
   ],
   "source": [
    "# calculate confusion matrix\n",
    "import numpy as np\n",
    "import pandas as pd\n",
    "import seaborn as sns\n",
    "import matplotlib.pyplot as plt\n",
    "\n",
    "y_true = []\n",
    "y_pred = []\n",
    "\n",
    "for x, y in test_ds:\n",
    "    y_true.extend(y.numpy())\n",
    "    y_pred.extend(np.argmax(model.predict(x, verbose=0), axis=1))\n",
    "\n",
    "confusion_matrix = pd.crosstab(pd.Series(y_true, name=\"Actual\"), pd.Series(y_pred, name=\"Predicted\"))\n",
    "sns.heatmap(confusion_matrix, annot=True, fmt=\"d\")\n",
    "plt.show()"
   ]
  },
  {
   "cell_type": "code",
   "execution_count": 8,
   "metadata": {},
   "outputs": [],
   "source": [
    "import pickle\n",
    "\n",
    "with open(\"models/history.pkl\", \"rb\") as f:\n",
    "    history = pickle.load(f)"
   ]
  },
  {
   "cell_type": "code",
   "execution_count": 9,
   "metadata": {},
   "outputs": [
    {
     "data": {
      "image/png": "[encoded data removed]",
      "text/plain": [
       "<Figure size 1600x400 with 2 Axes>"
      ]
     },
     "metadata": {},
     "output_type": "display_data"
    }
   ],
   "source": [
    "import matplotlib.pyplot as plt\n",
    "\n",
    "fig, (ax1, ax2) = plt.subplots(1, 2, figsize=(16, 4))\n",
    "\n",
    "# Plot loss on training and validation sets\n",
    "ax1.plot(history[\"loss\"], label=\"Train Loss\", color=\"tab:blue\")\n",
    "ax1.plot(history[\"val_loss\"], label=\"Validation Loss\", color=\"tab:orange\")\n",
    "ax1.set_xlabel(\"Epoch\")\n",
    "ax1.set_ylabel(\"Loss\")\n",
    "ax1.legend(loc=\"upper right\")\n",
    "ax1.set_title(\"Training and Validation Loss\")\n",
    "\n",
    "# Plot accuracy on training and validation sets\n",
    "ax2.plot(history[\"accuracy\"], label=\"Train Accuracy\", color=\"tab:green\")\n",
    "ax2.plot(history[\"val_accuracy\"], label=\"Validation Accuracy\", color=\"tab:red\")\n",
    "ax2.set_xlabel(\"Epoch\")\n",
    "ax2.set_ylabel(\"Accuracy\")\n",
    "ax2.legend(loc=\"upper right\")\n",
    "ax2.set_title(\"Training and Validation Accuracy\")\n",
    "\n",
    "plt.tight_layout()\n",
    "plt.show()"
   ]
  },
  {
   "cell_type": "code",
   "execution_count": null,
   "metadata": {},
   "outputs": [
    {
     "name": "stdout",
     "output_type": "stream",
     "text": [
      "<class 'tensorflow.python.framework.ops.EagerTensor'> (256, 256, 3)\n",
      "\u001b[1m1/1\u001b[0m \u001b[32m━━━━━━━━━━━━━━━━━━━━\u001b[0m\u001b[37m\u001b[0m \u001b[1m1s\u001b[0m 604ms/step\n",
      "Predicted class index: 0\n",
      "Predicted class: atopic_dermatitis\n",
      "Predictions: [8.2541925e-01 1.7458068e-01 9.6211117e-08]\n"
     ]
    }
   ],
   "source": [
    "import numpy as np\n",
    "\n",
    "filepath = \"data/raw_data/atopic_dermatitis/0_0.jpg\"\n",
    "input_shape = (256, 256, 3)\n",
    "\n",
    "image_array, _ = data_loader.load_and_preprocess_image(filepath, None)\n",
    "predictions = model.predict(np.expand_dims(image_array, axis=0))[0]\n",
    "class_idx = np.argmax(predictions)\n",
    "\n",
    "print(f\"Predicted class index: {class_idx}\")\n",
    "print(f\"Predicted class: {data_loader.get_class_mapping()[class_idx]}\")\n",
    "print(f\"Predictions: {predictions}\")"
   ]
  },
  {
   "cell_type": "code",
   "execution_count": 13,
   "metadata": {},
   "outputs": [
    {
     "data": {
      "text/plain": [
       "1677"
      ]
     },
     "execution_count": 13,
     "metadata": {},
     "output_type": "execute_result"
    }
   ],
   "source": [
    "import numpy as np\n",
    "import os\n",
    "\n",
    "class_dir = \"data/raw_data/eczema\"\n",
    "label_idx = 1\n",
    "input_shape = (256, 256, 3)\n",
    "\n",
    "class_images = []\n",
    "class_predictions = []\n",
    "\n",
    "for image_name in os.listdir(class_dir):\n",
    "    if image_name.lower().endswith((\"png\", \"jpg\", \"jpeg\")):\n",
    "        filepath = os.path.join(class_dir, image_name)\n",
    "        image_array, label = data_loader.load_and_preprocess_image(filepath, input_shape)\n",
    "        class_images.append(image_array)\n",
    "\n",
    "len(class_images)"
   ]
  },
  {
   "cell_type": "code",
   "execution_count": 15,
   "metadata": {},
   "outputs": [
    {
     "name": "stdout",
     "output_type": "stream",
     "text": [
      "\u001b[1m53/53\u001b[0m \u001b[32m━━━━━━━━━━━━━━━━━━━━\u001b[0m\u001b[37m\u001b[0m \u001b[1m2s\u001b[0m 32ms/step\n",
      "Correctly classified: 1514 out of 1677\n"
     ]
    }
   ],
   "source": [
    "probabilities = model.predict(np.array(class_images))\n",
    "predictions = np.argmax(probabilities, axis=1)\n",
    "\n",
    "# count how many images were correctly classified\n",
    "correctly_classified = np.sum(predictions == label_idx)\n",
    "print(f\"Correctly classified: {correctly_classified} out of {len(class_images)}\")"
   ]
  }
 ],
 "metadata": {
  "kernelspec": {
   "display_name": "skinsight-env",
   "language": "python",
   "name": "python3"
  },
  "language_info": {
   "codemirror_mode": {
    "name": "ipython",
    "version": 3
   },
   "file_extension": ".py",
   "mimetype": "text/x-python",
   "name": "python",
   "nbconvert_exporter": "python",
   "pygments_lexer": "ipython3",
   "version": "3.12.9"
  }
 },
 "nbformat": 4,
 "nbformat_minor": 2
}
